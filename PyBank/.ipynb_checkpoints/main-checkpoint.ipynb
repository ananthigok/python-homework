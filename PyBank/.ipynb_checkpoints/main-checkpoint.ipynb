{
 "cells": [
  {
   "cell_type": "code",
   "execution_count": 1,
   "metadata": {},
   "outputs": [],
   "source": [
    "#pyBank-main.ipynb"
   ]
  },
  {
   "cell_type": "code",
   "execution_count": 2,
   "metadata": {},
   "outputs": [],
   "source": [
    "## PYBANK ##\n",
    "## import libraries \n",
    "import pathlib \n",
    "import csv\n",
    "\n",
    "## initialise variables\n",
    "rowCounter = -1\n",
    "total = 0\n",
    "profit = 0\n",
    "loss = 0\n",
    "greatestInc = 0\n",
    "greatestDec = -1\n",
    "greatestIncMonth = ''\n",
    "greatestDecMonth = ''\n",
    "netProfitLoss = 0\n",
    "prevVal = 0\n",
    "totalRevenue =0\n",
    "revenueChange = 0\n",
    "revenueChangeList =0\n",
    "## function to write the output to file \n",
    "def writeOutputToFile(fileName, data):\n",
    "    FileObject = open(fileName, \"w\")\n",
    "    FileObject.writelines(data)\n",
    "    FileObject.close()   \n",
    "csvFile = pathlib.Path('./budget_data.csv')\n",
    "with csvFile.open() as f:\n",
    "    csvReader = csv.reader(f, delimiter=',', quotechar='|')\n",
    "    for row in csvReader:\n",
    "        if(rowCounter>=0): \n",
    "            value = int(row[1]) \n",
    "            total += value\n",
    "            if (rowCounter==0):\n",
    "                greatestDec = value          \n",
    "            # determine profit or loss with value     \n",
    "            if (value>0):\n",
    "                profit += value\n",
    "                if (value>greatestInc):\n",
    "                    greatestInc = value\n",
    "                    greatestIncMonth = row[0]    \n",
    "            else:\n",
    "                loss += value\n",
    "                if (abs(value)>abs(greatestDec)): \n",
    "                    greatestDec = value\n",
    "                    greatestDecMonth = row[0]                  \n",
    "            if rowCounter>0:\n",
    "                totalRevenue = totalRevenue + value\n",
    "                #Calculate the average change in revenue between months over the entire period\n",
    "                revenueChange = (value)- prevVal\n",
    "                revenueChangeList = revenueChangeList + revenueChange                  \n",
    "            ## set the current value as prevValue for next iteration         \n",
    "            prevVal = value\n",
    "        rowCounter += 1\n",
    "avgChange = round((( revenueChangeList )/(rowCounter-1)),2)\n",
    "netProfitLoss = profit+loss\n",
    "str =  [\n",
    "    \"The total number of months included in the dataset is \" + \"% s\" %(rowCounter)+\" \\n\",\n",
    "    \"The total profit is $\"+\"% s\"%profit+\" \\n\",\n",
    "    \"The total loss is $\"+\"% s\"%loss+\" \\n\",\n",
    "    \"The net total amount of Profit/Losses over the entire period is $\" +\"% s\" %netProfitLoss+\" \\n\",\n",
    "    \"The average of the changes in Profit/Losses over the entire period is \"+\" $\"+\"% s\" %avgChange+\" \\n\",\n",
    "    \"Greatest Increase in Profits: \"+greatestIncMonth+\" $\"+\"% s\" %greatestInc+\" \\n\",\n",
    "    \"Greatest Decrease in Losses: \"+greatestDecMonth+\"  $\"+\"% s\" %greatestDec+\" \\n\"\n",
    "]\n",
    "## call the function to output in file \n",
    "writeOutputToFile(\"pybank_budget_data_analysis.txt\", str)"
   ]
  },
  {
   "cell_type": "code",
   "execution_count": null,
   "metadata": {},
   "outputs": [],
   "source": []
  },
  {
   "cell_type": "code",
   "execution_count": null,
   "metadata": {},
   "outputs": [],
   "source": []
  },
  {
   "cell_type": "code",
   "execution_count": null,
   "metadata": {},
   "outputs": [],
   "source": []
  }
 ],
 "metadata": {
  "kernelspec": {
   "display_name": "Python 3",
   "language": "python",
   "name": "python3"
  },
  "language_info": {
   "codemirror_mode": {
    "name": "ipython",
    "version": 3
   },
   "file_extension": ".py",
   "mimetype": "text/x-python",
   "name": "python",
   "nbconvert_exporter": "python",
   "pygments_lexer": "ipython3",
   "version": "3.7.9"
  }
 },
 "nbformat": 4,
 "nbformat_minor": 4
}
