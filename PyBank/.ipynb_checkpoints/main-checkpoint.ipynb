{
 "cells": [
  {
   "cell_type": "code",
   "execution_count": null,
   "metadata": {},
   "outputs": [],
   "source": [
    "#pyBank-main.ipynb"
   ]
  },
  {
   "cell_type": "code",
   "execution_count": 60,
   "metadata": {},
   "outputs": [
    {
     "name": "stdout",
     "output_type": "stream",
     "text": [
      "['The total number of months included in the dataset is 86 \\n', 'The total amount of Profit and Loss is 38382578 \\n', 'The total profit is $45710004 \\n', 'The total loss is $-7327426 \\n', 'The net total amount of Profit/Losses over the entire period is $38382578 \\n', 'The average of the changes in Profit/Losses over the entire period is  $-2315.1176470588234 \\n', 'Greatest Increase in Profits: Feb-2012 $1170593 \\n', 'Greatest Decrease in Losses: Sep-2013  $-1196225 \\n']\n"
     ]
    }
   ],
   "source": [
    "## PYBANK ##\n",
    "## import libraries \n",
    "import pathlib \n",
    "import csv\n",
    "\n",
    "## initialise variables\n",
    "rowCounter = -1\n",
    "total = 0\n",
    "profit = 0\n",
    "loss = 0\n",
    "greatestInc = 0\n",
    "greatestDec = -1\n",
    "greatestIncMonth = ''\n",
    "greatestDecMonth = ''\n",
    "netProfitLoss = 0\n",
    "txtInput = []\n",
    "prevVal = 0\n",
    "change = 0\n",
    "currentChangeValue = 0\n",
    "changeValueProfit = 0\n",
    "changeValueLoss = 0\n",
    "changeValue = 0\n",
    "profitCounter = 0\n",
    "lossCounter = 0\n",
    "\n",
    "total_revenue =0\n",
    "revenue_change = 0\n",
    "revenue_change_list =0\n",
    "previous_revenue = 0\n",
    "\n",
    "## function to write the output to file \n",
    "def writeOutputToFile(fileName, data):\n",
    "    File_object = open(fileName, \"w\")\n",
    "    File_object.writelines(data)\n",
    "    File_object.close()\n",
    "def distance(x, y):\n",
    "    if x >= y:\n",
    "        result = x - y\n",
    "    else:\n",
    "        result = y - x\n",
    "    return result    \n",
    "\n",
    "csvFile = pathlib.Path('./budget_data.csv')\n",
    "with csvFile.open() as f:\n",
    "    csvReader = csv.reader(f, delimiter=',', quotechar='|')\n",
    "    for row in csvReader:\n",
    "        #if (rowCounter==-1):\n",
    "            #next(csvReader) ## skip the heading row \n",
    "        if(rowCounter>=0): \n",
    "            value = int(row[1]) \n",
    "            total += value\n",
    "            if (rowCounter==0):\n",
    "                greatestDec = value\n",
    "            \n",
    "            # determine profit or loss with value     \n",
    "            if (value>0):\n",
    "                profit += value\n",
    "                if (value>greatestInc):\n",
    "                    greatestInc = value\n",
    "                    greatestIncMonth = row[0]\n",
    "                #change +=  (prevVal) - (value)    \n",
    "            else:\n",
    "                loss += value\n",
    "                if (abs(value)>abs(greatestDec)): \n",
    "                    greatestDec = value\n",
    "                    greatestDecMonth = row[0]        \n",
    "            \n",
    "            if rowCounter>0:\n",
    "                total_revenue = total_revenue + value\n",
    "\n",
    "                #Calculate the average change in revenue between months over the entire period\n",
    "                revenue_change = float(value)- prevVal\n",
    "                previous_revenue = float(value)\n",
    "                revenue_change_list = revenue_change_list + revenue_change\n",
    "                \n",
    "                \n",
    "                 \n",
    "                    \n",
    "            ## set the current value as prevValue for next iteration         \n",
    "            prevVal = value\n",
    "        rowCounter += 1\n",
    "\n",
    "\n",
    "avgChange = ( revenue_change_list )/(rowCounter-1) \n",
    "netProfitLoss = profit+loss\n",
    "str =  [\n",
    "    \"The total number of months included in the dataset is \" + \"% s\" %(rowCounter)+\" \\n\",\n",
    "    \"The total amount of Profit and Loss is \" + \"% s\" %(total)+\" \\n\",\n",
    "    \"The total profit is $\"+\"% s\"%profit+\" \\n\",\n",
    "    \"The total loss is $\"+\"% s\"%loss+\" \\n\",\n",
    "    \"The net total amount of Profit/Losses over the entire period is $\" +\"% s\" %netProfitLoss+\" \\n\",\n",
    "    \"The average of the changes in Profit/Losses over the entire period is \"+\" $\"+\"% s\" %avgChange+\" \\n\",\n",
    "    \"Greatest Increase in Profits: \"+greatestIncMonth+\" $\"+\"% s\" %greatestInc+\" \\n\",\n",
    "    \"Greatest Decrease in Losses: \"+greatestDecMonth+\"  $\"+\"% s\" %greatestDec+\" \\n\"\n",
    "]\n",
    "print (str)\n",
    "## call the function to output in file \n",
    "writeOutputToFile(\"pybank_budget_data_analysis.txt\", str)"
   ]
  },
  {
   "cell_type": "code",
   "execution_count": null,
   "metadata": {},
   "outputs": [],
   "source": []
  },
  {
   "cell_type": "code",
   "execution_count": null,
   "metadata": {},
   "outputs": [],
   "source": []
  },
  {
   "cell_type": "code",
   "execution_count": null,
   "metadata": {},
   "outputs": [],
   "source": []
  }
 ],
 "metadata": {
  "kernelspec": {
   "display_name": "Python 3",
   "language": "python",
   "name": "python3"
  },
  "language_info": {
   "codemirror_mode": {
    "name": "ipython",
    "version": 3
   },
   "file_extension": ".py",
   "mimetype": "text/x-python",
   "name": "python",
   "nbconvert_exporter": "python",
   "pygments_lexer": "ipython3",
   "version": "3.7.9"
  }
 },
 "nbformat": 4,
 "nbformat_minor": 4
}
