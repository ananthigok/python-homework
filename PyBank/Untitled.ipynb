{
 "cells": [
  {
   "cell_type": "code",
   "execution_count": null,
   "metadata": {},
   "outputs": [],
   "source": [
    "str = \"The total number of months included in the dataset is \" + \"% s\" %(rowCounter)+\" \\n\",    \n",
    "txtInput.append(str)\n",
    "\n",
    "str = \"The total profit is $\"+\"% s\"%profit+\" \\n\"\n",
    "txtInput.append(str)\n",
    "\n",
    "str=\"The total loss is $\"+\"% s\"%loss+\" \\n\"\n",
    "txtInput.append(str)\n",
    "\n",
    "netProfitLoss = profit-loss\n",
    "str=\"The net total amount of Profit/Losses over the entire period is $\" +\"% s\" %netProfitLoss+\" \\n\"\n",
    "txtInput.append(str)\n",
    "\n",
    "\n",
    "print (f\"Average Change {avgChange}\")\n",
    "str=\"The average of the changes in Profit/Losses over the entire period is \"+\" $\"+\"% s\" %avgChange+\" \\n\"\n",
    "txtInput.append(str)\n",
    "\n",
    "str=\"Greatest Increase in Profits: \"+greatestIncMonth+\" $\"+\"% s\" %greatestInc+\" \\n\"\n",
    "txtInput.append(str)\n",
    "\n",
    "str=\"Greatest Decrease in Losses: \"+greatestDecMonth+\"  $\"+\"% s\" %greatestDec+\" \\n\"\n",
    "txtInput.append(str)\n",
    "\n",
    "File_object = open(\"budget_data_analysis.txt\", \"w\")\n",
    "File_object.writelines(txtInput)\n",
    "File_object.close()\n",
    "## f = open(\"budget_data_output.txt\", \"a\")\n",
    "## count = len(txtInput)\n",
    "## for i in range(count):\n",
    "    ## print (f\" {txtInput[i]} \")\n",
    "    ## print(\"\\r\")\n",
    "    ## f.write(txtInput[i])\n",
    "## f.close() "
   ]
  }
 ],
 "metadata": {
  "kernelspec": {
   "display_name": "Python 3",
   "language": "python",
   "name": "python3"
  },
  "language_info": {
   "codemirror_mode": {
    "name": "ipython",
    "version": 3
   },
   "file_extension": ".py",
   "mimetype": "text/x-python",
   "name": "python",
   "nbconvert_exporter": "python",
   "pygments_lexer": "ipython3",
   "version": "3.7.9"
  }
 },
 "nbformat": 4,
 "nbformat_minor": 4
}
