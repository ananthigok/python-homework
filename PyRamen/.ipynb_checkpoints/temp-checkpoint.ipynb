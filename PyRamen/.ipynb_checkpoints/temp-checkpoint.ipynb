{
 "cells": [
  {
   "cell_type": "code",
   "execution_count": null,
   "metadata": {},
   "outputs": [],
   "source": [
    "report = []\n",
    "sales_item = {}\n",
    "for row in csvListSales: \n",
    "    #print (row) ## 1 => id, 2 => date, 3 => creditcard, 4 => quantity, 5 => menu \n",
    "    print ()\n",
    "    ## todo check if menu item exists \n",
    "    item = row[4].lstrip()\n",
    "    # print (f\" item is {item} and quantity is {row[3]}\\n\")\n",
    "    #print ()\n",
    "    #print ()\n",
    "    sales_item = {\n",
    "        item : {\n",
    "            \"menu-item\" : item,\n",
    "            \"quantity\" : row[3],\n",
    "        }\n",
    "    }\n",
    "    #print (sales_item[item])\n",
    "    #print()\n",
    "    #print()\n",
    "item = ''\n",
    "quantity = 0\n",
    "profit = 0\n",
    "menu_item = []\n",
    "# print (sales_item)\n",
    "for rowMenu in csvListMenu:\n",
    "    # print (row) ## 1 => item, 2 => category, 3 => description, 4 => price, 5 => cost \n",
    "    #print (row)\n",
    "    item = rowMenu[0]\n",
    "    price = rowMenu[-2]\n",
    "    cost = rowMenu[-1]\n",
    "    #print (f\" Price is {price} and cost is {cost} \\n\")\n",
    "    menu_item.append({\n",
    "            \"item\" : item,\n",
    "            \"price\" : price,\n",
    "            \"cost\" : cost\n",
    "    })\n",
    "    #profit = cost-price\n",
    "    print (f\"item is {item}\")\n",
    "    #print (\"sales_item is => \")\n",
    "    #print (sales_item)\n",
    "    #print ()\n",
    "    #if item in sales_item.keys():\n",
    "    #if sales_item.has_key(item)\n",
    "    if item in sales_item:\n",
    "        print (item)\n",
    "        quantity = sales_item[item][quantity]\n",
    "        report[item][\"01-count\"] += quantity\n",
    "        report[item][\"02-revenue\"] += price * quantity\n",
    "        report[item][\"03-cogs\"] += cost * quantity\n",
    "        #report[item][\"04-profit\"] += profit * quantity\n",
    "    else:\n",
    "        print (\"item is not found in sales item\")\n",
    "#print (report)\n"
   ]
  }
 ],
 "metadata": {
  "kernelspec": {
   "display_name": "Python 3",
   "language": "python",
   "name": "python3"
  },
  "language_info": {
   "codemirror_mode": {
    "name": "ipython",
    "version": 3
   },
   "file_extension": ".py",
   "mimetype": "text/x-python",
   "name": "python",
   "nbconvert_exporter": "python",
   "pygments_lexer": "ipython3",
   "version": "3.7.9"
  }
 },
 "nbformat": 4,
 "nbformat_minor": 4
}
